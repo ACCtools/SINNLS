{
 "cells": [
  {
   "cell_type": "markdown",
   "metadata": {},
   "source": [
    "mtx form data\n"
   ]
  },
  {
   "cell_type": "code",
   "execution_count": 22,
   "metadata": {},
   "outputs": [
    {
     "data": {
      "text/plain": [
       "4929×10595 SparseMatrixCSC{Float64,Int64} with 47369 stored entries:\n",
       "  [1   ,     1]  =  3.50596\n",
       "  [2   ,     1]  =  -1.19631\n",
       "  [5   ,     1]  =  -0.81771\n",
       "  [6   ,     1]  =  0.291023\n",
       "  [1185,     1]  =  -0.341588\n",
       "  [1186,     1]  =  -0.0484222\n",
       "  [4083,     1]  =  -0.782182\n",
       "  [4084,     1]  =  0.71322\n",
       "  [3   ,     2]  =  4.65772\n",
       "  [4   ,     2]  =  -0.761052\n",
       "  [5   ,     2]  =  -0.949869\n",
       "  [6   ,     2]  =  0.512627\n",
       "  ⋮\n",
       "  [4929, 10589]  =  10.4406\n",
       "  [4924, 10590]  =  -1.0\n",
       "  [4929, 10590]  =  5.73841\n",
       "  [4924, 10591]  =  1.0\n",
       "  [4929, 10591]  =  5.73841\n",
       "  [4926, 10592]  =  -0.159481\n",
       "  [4929, 10592]  =  0.0\n",
       "  [4926, 10593]  =  0.159481\n",
       "  [4929, 10593]  =  0.0\n",
       "  [4928, 10594]  =  -0.614717\n",
       "  [4929, 10594]  =  162.677\n",
       "  [4928, 10595]  =  0.614717\n",
       "  [4929, 10595]  =  162.677"
      ]
     },
     "execution_count": 22,
     "metadata": {},
     "output_type": "execute_result"
    }
   ],
   "source": [
    "using DelimitedFiles, SparseArrays, LinearAlgebra\n",
    "dir  = \"data/gemat1.mtx/\"\n",
    "ln = \"gemat1.mtx\"\n",
    "\n",
    "A=readdlm(string(dir,strip(ln));header=false,skipstart=2)\n",
    "A=sparse( Int64.(A[:,1]), Int64.(A[:,2]), convert(Array{Float64},A[:,3]))"
   ]
  }
 ],
 "metadata": {
  "kernelspec": {
   "display_name": "Julia 1.5.0",
   "language": "julia",
   "name": "julia-1.5"
  },
  "language_info": {
   "file_extension": ".jl",
   "mimetype": "application/julia",
   "name": "julia",
   "version": "1.5.0"
  }
 },
 "nbformat": 4,
 "nbformat_minor": 2
}
