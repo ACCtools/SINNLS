{
 "cells": [
  {
   "cell_type": "code",
   "execution_count": 1,
   "metadata": {},
   "outputs": [],
   "source": [
    "# Julia version code\n",
    "\"\"\"\n",
    "nonnegative linear regression \n",
    "\"\"\"\n",
    "# Discussion from Dec 22\n",
    "# 1. Currently, our runtime is O(n/sqrt(eps)*(m+n)). The per iteration O(m)\n",
    "# is unavoidable; however, IF we are NOT required to output the optimizer xtilde_ktotal, \n",
    "# then by maintaining 1^T x in each iteration (at a cost of O(1)), we can completely\n",
    "# avoid O(n) per iteration. \n",
    "\n",
    "using LinearAlgebra, BenchmarkTools, Plots, Convex, SCS, NonNegLeastSquares, MLDatasets\n",
    "\n"
   ]
  },
  {
   "cell_type": "code",
   "execution_count": 2,
   "metadata": {},
   "outputs": [
    {
     "data": {
      "text/plain": [
       "alg_ours (generic function with 1 method)"
      ]
     },
     "execution_count": 2,
     "metadata": {},
     "output_type": "execute_result"
    }
   ],
   "source": [
    "function alg_ours(C::Matrix{Float64}, b::Matrix{Float64}, ϵ::Float64, M:: Int64)\n",
    "    \n",
    "    extra_term_nnls = 0.5*norm(b)^2\n",
    "    m, n = size(C)\n",
    "    K = ceil(n / √ϵ)\n",
    "    previous_A = 1.0/n\n",
    "    previous_a = previous_A\n",
    "    a = 1.0/(n*n)\n",
    "    A = (n+1.0) /(n * n)\n",
    "    col_norm = norm.(eachcol(C))\n",
    "    inv_col_norm_square = 1.0 ./(col_norm.^2)\n",
    "    idx_seq = 1:n\n",
    "    t = x = zeros(n)\n",
    "    p = zeros(n)\n",
    "    j = rand(idx_seq)\n",
    "    p[j] += inv_col_norm_square[j]\n",
    "    x[j] = p[j]\n",
    "    # x̃ = deepcopy(x)\n",
    "    previous_y = zeros(m)\n",
    "    y = x[j] * C[:, j]\n",
    "    # record Ax\n",
    "    z = x[j] * C[:, j]\n",
    "    ȳ = (n+1) * y\n",
    "    s = zeros(n)\n",
    "    #func_value = 0\n",
    "    func_value=zeros(Int(ceil(K/M)))\n",
    "    i=0\n",
    "    while M*i < K # Stopping Criterion\n",
    "        t[:]=x[:] # inner loop\n",
    "        for k = 2:M\n",
    "            j = rand(idx_seq)\n",
    "            p[j] += - n * inv_col_norm_square[j] * a * (sum(C[:,j] .* ȳ) - 1) # Will pass ȳ to the code\n",
    "            prev_tj = t[j]\n",
    "            t[j] = min(inv_col_norm_square[j], max(0, x[j]+p[j]))\n",
    "            # record At\n",
    "            z[:] += C[:, j] * (t[j] - prev_tj)\n",
    "            previous_y[:] = y[:]\n",
    "            y[:] = previous_A/A * y[:] + a/A * z[:] + (n-1) * a/A * (t[j] - prev_tj) * C[:,j]\n",
    "            s[j] += ((n-1) * a -  previous_A) * (t[j] - prev_tj)\n",
    "            previous_a, previous_A = a, A\n",
    "            a = min(n * a/(n-1), sqrt(A)/(2*n))\n",
    "            ȳ[:] = y[:] + previous_a/a * (y[:] - previous_y[:])\n",
    "            A += a\n",
    "        end\n",
    "        x[:] = t[:]\n",
    "        x̃ = x + 1.0/previous_A * s\n",
    "        i=i+1\n",
    "        \n",
    "        C_x̃ = C * x̃\n",
    "        func_value[i] = 0.5 * sum(C_x̃ .* C_x̃) - sum(x̃)+extra_term_nnls\n",
    "#         @info \"pass: $i, func_value: $func_value\"\n",
    "        \n",
    "        # Redefine the parameters\n",
    "        #s=zeros(n)\n",
    "        p = zeros(n)\n",
    "        #previous_y = zeros(m)\n",
    "        #ȳ=zeros(m)\n",
    "    end\n",
    "    return(func_value)\n",
    "end"
   ]
  },
  {
   "cell_type": "code",
   "execution_count": 3,
   "metadata": {},
   "outputs": [
    {
     "data": {
      "text/plain": [
       "alg_fast_lawsonhanson (generic function with 1 method)"
      ]
     },
     "execution_count": 3,
     "metadata": {},
     "output_type": "execute_result"
    }
   ],
   "source": [
    "# https://github.com/ahwillia/NonNegLeastSquares.jl\n",
    "function alg_fast_lawsonhanson(A, b)\n",
    "    xfnnls = nonneg_lsq(A,b;alg=:fnnls) # Fast NNLS\n",
    "\n",
    "    fnnls_optval = 0.5*norm(A*xfnnls - b)^2\n",
    "    \n",
    "    print(\"\\n f-nnls (nnls package) value is \", fnnls_optval)\n",
    "    \n",
    "    return(fnnls_optval)\n",
    "end"
   ]
  },
  {
   "cell_type": "code",
   "execution_count": 4,
   "metadata": {},
   "outputs": [
    {
     "data": {
      "text/plain": [
       "alg_pivot (generic function with 1 method)"
      ]
     },
     "execution_count": 4,
     "metadata": {},
     "output_type": "execute_result"
    }
   ],
   "source": [
    "# https://github.com/ahwillia/NonNegLeastSquares.jl\n",
    "function alg_pivot(A, b)\n",
    "    xpivot = nonneg_lsq(A,b;alg=:pivot) # Pivot Method\n",
    "\n",
    "    xpivot_optval = 0.5*norm(A*xpivot - b)^2\n",
    "    \n",
    "    print(\"\\n pivot alg (nnls package) value is \", xpivot_optval)\n",
    "end"
   ]
  },
  {
   "cell_type": "code",
   "execution_count": 5,
   "metadata": {},
   "outputs": [
    {
     "data": {
      "text/plain": [
       "alg_lawsonhanson (generic function with 1 method)"
      ]
     },
     "execution_count": 5,
     "metadata": {},
     "output_type": "execute_result"
    }
   ],
   "source": [
    "function alg_lawsonhanson(A, b)\n",
    "    xnnls = nonneg_lsq(A,b;alg=:nnls)  # NNLS\n",
    "\n",
    "    nnls_optval = 0.5*norm(A*xnnls - b)^2\n",
    "    \n",
    "    print(\"\\n nnls package value is \", nnls_optval)\n",
    "    \n",
    "end"
   ]
  },
  {
   "cell_type": "markdown",
   "metadata": {},
   "source": [
    "Test for simulation"
   ]
  },
  {
   "cell_type": "code",
   "execution_count": null,
   "metadata": {},
   "outputs": [],
   "source": [
    "# Main code\n",
    "function remove_col1(A,b)#Chenghui has an idea to optimize this for speed (\"filter\")\n",
    "    s=A'*b # n*1 \n",
    "    B=A[:,vec(s.>0)] # m*b matrix where b is smaller than n\n",
    "    s=s[vec(s.>0)] # s is b*1 in dimensions\n",
    "    return B./s'\n",
    "end\n",
    "\n",
    "epsilon = 0.0001 \n",
    "\n",
    "############# \n",
    "n = 10000000 # variable dimension \n",
    "m = 5 # Number of data points\n",
    "b=rand(m,1)-repeat([0.3],m,1)\n",
    "A_init =  max.(0, randn(m, n)) #rand(m,n)#\n",
    "############\n",
    "\n",
    "############ Mnist： uncomment \n",
    "#train_x, train_y = MNIST.traindata()\n",
    "#A = Array{Int64}\n",
    "#b = Array{Int64}\n",
    "#A_init = reshape(train_x,60000,28*28)\n",
    "#b = train_y\n",
    "#test_x,  test_y  = MNIST.testdata()\n",
    "############\n",
    "\n",
    "\n",
    " A = remove_col1(A_init,b)\n",
    "############ Mnist: uncomment this\n",
    "# A = Float64.(A)\n",
    "# b = Float64.(b)\n",
    "# b1 = vcat(b')\n",
    "############\n",
    "\n",
    "(m,n) = size(A) # Redefine the size number n and m to prevent triviality.\n",
    "\n",
    "\n",
    "#  @time begin\n",
    "# our_result = alg_ours(A, b, epsilon, n)\n",
    "# # #our_result = alg_ours(A, b1, epsilon)\n",
    "#  end \n",
    "# #print(our_result[end])\n",
    "\n",
    "\n",
    "####### Plot\n",
    "# s = alg_fast_lawsonhanson(A, b) # optima value\n",
    "# f = plot(our_result.-s)#,xaxis=:log,yaxis=:log)\n",
    "# print(\"\\n\",our_result[end]-s,\"\\n\")\n",
    "# @show f   \n",
    "\n",
    "#   @time begin \n",
    "#   s=alg_fast_lawsonhanson(A, b)\n",
    "#   end\n",
    "\n",
    "  @time begin \n",
    "  alg_lawsonhanson(A, b)\n",
    "  end\n",
    "\n",
    "#   @time begin \n",
    "#   alg_pivot(A, b)\n",
    "#   end"
   ]
  },
  {
   "cell_type": "markdown",
   "metadata": {},
   "source": [
    "Plot for comparing algorithm w.r.t. the number of iterations."
   ]
  },
  {
   "cell_type": "code",
   "execution_count": null,
   "metadata": {},
   "outputs": [],
   "source": [
    "maxiter1=100\n",
    "result=zeros(maxiter1)\n",
    "for i=1:maxiter1\n",
    "    xfnnls= nonneg_lsq(A,b,max_iter=i;alg=:fnnls)\n",
    "    result[i] = 0.5*norm(A*xfnnls - b)^2\n",
    "end\n",
    "\n",
    "f = plot(result.-s.+0.0000001,xaxis=:log,yaxis=:log)\n",
    "@show f "
   ]
  },
  {
   "cell_type": "code",
   "execution_count": 72,
   "metadata": {
    "scrolled": true
   },
   "outputs": [
    {
     "name": "stdout",
     "output_type": "stream",
     "text": [
      "  2.358081 seconds (2.00 M allocations: 6.197 GiB, 22.73% gc time)\n",
      "\n",
      " f-nnls (nnls package) value is 12.510049004411094\n",
      "0.00044010094469548733\n",
      "f = Plot{Plots.GRBackend() n=1}\n"
     ]
    },
    {
     "data": {
      "image/svg+xml": [
       "<?xml version=\"1.0\" encoding=\"utf-8\"?>\n",
       "<svg xmlns=\"http://www.w3.org/2000/svg\" xmlns:xlink=\"http://www.w3.org/1999/xlink\" width=\"600\" height=\"400\" viewBox=\"0 0 2400 1600\">\n",
       "<defs>\n",
       "  <clipPath id=\"clip440\">\n",
       "    <rect x=\"0\" y=\"0\" width=\"2400\" height=\"1600\"/>\n",
       "  </clipPath>\n",
       "</defs>\n",
       "<path clip-path=\"url(#clip440)\" d=\"\n",
       "M0 1600 L2400 1600 L2400 0 L0 0  Z\n",
       "  \" fill=\"#ffffff\" fill-rule=\"evenodd\" fill-opacity=\"1\"/>\n",
       "<defs>\n",
       "  <clipPath id=\"clip441\">\n",
       "    <rect x=\"480\" y=\"0\" width=\"1681\" height=\"1600\"/>\n",
       "  </clipPath>\n",
       "</defs>\n",
       "<path clip-path=\"url(#clip440)\" d=\"\n",
       "M187.803 1474.16 L2352.76 1474.16 L2352.76 47.2441 L187.803 47.2441  Z\n",
       "  \" fill=\"#ffffff\" fill-rule=\"evenodd\" fill-opacity=\"1\"/>\n",
       "<defs>\n",
       "  <clipPath id=\"clip442\">\n",
       "    <rect x=\"187\" y=\"47\" width=\"2166\" height=\"1428\"/>\n",
       "  </clipPath>\n",
       "</defs>\n",
       "<polyline clip-path=\"url(#clip442)\" style=\"stroke:#000000; stroke-linecap:butt; stroke-linejoin:round; stroke-width:2; stroke-opacity:0.1; fill:none\" points=\"\n",
       "  249.075,1474.16 249.075,47.2441 \n",
       "  \"/>\n",
       "<polyline clip-path=\"url(#clip442)\" style=\"stroke:#000000; stroke-linecap:butt; stroke-linejoin:round; stroke-width:2; stroke-opacity:0.1; fill:none\" points=\"\n",
       "  1270.28,1474.16 1270.28,47.2441 \n",
       "  \"/>\n",
       "<polyline clip-path=\"url(#clip442)\" style=\"stroke:#000000; stroke-linecap:butt; stroke-linejoin:round; stroke-width:2; stroke-opacity:0.1; fill:none\" points=\"\n",
       "  2291.48,1474.16 2291.48,47.2441 \n",
       "  \"/>\n",
       "<polyline clip-path=\"url(#clip440)\" style=\"stroke:#000000; stroke-linecap:butt; stroke-linejoin:round; stroke-width:4; stroke-opacity:1; fill:none\" points=\"\n",
       "  187.803,1474.16 2352.76,1474.16 \n",
       "  \"/>\n",
       "<polyline clip-path=\"url(#clip440)\" style=\"stroke:#000000; stroke-linecap:butt; stroke-linejoin:round; stroke-width:4; stroke-opacity:1; fill:none\" points=\"\n",
       "  249.075,1474.16 249.075,1455.27 \n",
       "  \"/>\n",
       "<polyline clip-path=\"url(#clip440)\" style=\"stroke:#000000; stroke-linecap:butt; stroke-linejoin:round; stroke-width:4; stroke-opacity:1; fill:none\" points=\"\n",
       "  1270.28,1474.16 1270.28,1455.27 \n",
       "  \"/>\n",
       "<polyline clip-path=\"url(#clip440)\" style=\"stroke:#000000; stroke-linecap:butt; stroke-linejoin:round; stroke-width:4; stroke-opacity:1; fill:none\" points=\"\n",
       "  2291.48,1474.16 2291.48,1455.27 \n",
       "  \"/>\n",
       "<path clip-path=\"url(#clip440)\" d=\"M214.058 1548.29 L221.697 1548.29 L221.697 1521.92 L213.387 1523.59 L213.387 1519.33 L221.651 1517.66 L226.327 1517.66 L226.327 1548.29 L233.966 1548.29 L233.966 1552.22 L214.058 1552.22 L214.058 1548.29 Z\" fill=\"#000000\" fill-rule=\"evenodd\" fill-opacity=\"1\" /><path clip-path=\"url(#clip440)\" d=\"M253.41 1520.74 Q249.799 1520.74 247.97 1524.31 Q246.165 1527.85 246.165 1534.98 Q246.165 1542.09 247.97 1545.65 Q249.799 1549.19 253.41 1549.19 Q257.044 1549.19 258.85 1545.65 Q260.678 1542.09 260.678 1534.98 Q260.678 1527.85 258.85 1524.31 Q257.044 1520.74 253.41 1520.74 M253.41 1517.04 Q259.22 1517.04 262.276 1521.65 Q265.354 1526.23 265.354 1534.98 Q265.354 1543.71 262.276 1548.31 Q259.22 1552.9 253.41 1552.9 Q247.6 1552.9 244.521 1548.31 Q241.466 1543.71 241.466 1534.98 Q241.466 1526.23 244.521 1521.65 Q247.6 1517.04 253.41 1517.04 Z\" fill=\"#000000\" fill-rule=\"evenodd\" fill-opacity=\"1\" /><path clip-path=\"url(#clip440)\" d=\"M275.059 1499.24 Q272.125 1499.24 270.639 1502.13 Q269.172 1505.01 269.172 1510.8 Q269.172 1516.58 270.639 1519.47 Q272.125 1522.35 275.059 1522.35 Q278.012 1522.35 279.479 1519.47 Q280.965 1516.58 280.965 1510.8 Q280.965 1505.01 279.479 1502.13 Q278.012 1499.24 275.059 1499.24 M275.059 1496.23 Q279.78 1496.23 282.262 1499.97 Q284.764 1503.69 284.764 1510.8 Q284.764 1517.89 282.262 1521.64 Q279.78 1525.36 275.059 1525.36 Q270.338 1525.36 267.837 1521.64 Q265.354 1517.89 265.354 1510.8 Q265.354 1503.69 267.837 1499.97 Q270.338 1496.23 275.059 1496.23 Z\" fill=\"#000000\" fill-rule=\"evenodd\" fill-opacity=\"1\" /><path clip-path=\"url(#clip440)\" d=\"M1236.61 1548.29 L1244.25 1548.29 L1244.25 1521.92 L1235.94 1523.59 L1235.94 1519.33 L1244.2 1517.66 L1248.88 1517.66 L1248.88 1548.29 L1256.51 1548.29 L1256.51 1552.22 L1236.61 1552.22 L1236.61 1548.29 Z\" fill=\"#000000\" fill-rule=\"evenodd\" fill-opacity=\"1\" /><path clip-path=\"url(#clip440)\" d=\"M1275.96 1520.74 Q1272.35 1520.74 1270.52 1524.31 Q1268.71 1527.85 1268.71 1534.98 Q1268.71 1542.09 1270.52 1545.65 Q1272.35 1549.19 1275.96 1549.19 Q1279.59 1549.19 1281.4 1545.65 Q1283.23 1542.09 1283.23 1534.98 Q1283.23 1527.85 1281.4 1524.31 Q1279.59 1520.74 1275.96 1520.74 M1275.96 1517.04 Q1281.77 1517.04 1284.82 1521.65 Q1287.9 1526.23 1287.9 1534.98 Q1287.9 1543.71 1284.82 1548.31 Q1281.77 1552.9 1275.96 1552.9 Q1270.15 1552.9 1267.07 1548.31 Q1264.01 1543.71 1264.01 1534.98 Q1264.01 1526.23 1267.07 1521.65 Q1270.15 1517.04 1275.96 1517.04 Z\" fill=\"#000000\" fill-rule=\"evenodd\" fill-opacity=\"1\" /><path clip-path=\"url(#clip440)\" d=\"M1288.45 1521.62 L1294.66 1521.62 L1294.66 1500.19 L1287.9 1501.55 L1287.9 1498.09 L1294.62 1496.73 L1298.42 1496.73 L1298.42 1521.62 L1304.62 1521.62 L1304.62 1524.81 L1288.45 1524.81 L1288.45 1521.62 Z\" fill=\"#000000\" fill-rule=\"evenodd\" fill-opacity=\"1\" /><path clip-path=\"url(#clip440)\" d=\"M2257.26 1548.29 L2264.9 1548.29 L2264.9 1521.92 L2256.59 1523.59 L2256.59 1519.33 L2264.85 1517.66 L2269.52 1517.66 L2269.52 1548.29 L2277.16 1548.29 L2277.16 1552.22 L2257.26 1552.22 L2257.26 1548.29 Z\" fill=\"#000000\" fill-rule=\"evenodd\" fill-opacity=\"1\" /><path clip-path=\"url(#clip440)\" d=\"M2296.61 1520.74 Q2293 1520.74 2291.17 1524.31 Q2289.36 1527.85 2289.36 1534.98 Q2289.36 1542.09 2291.17 1545.65 Q2293 1549.19 2296.61 1549.19 Q2300.24 1549.19 2302.05 1545.65 Q2303.88 1542.09 2303.88 1534.98 Q2303.88 1527.85 2302.05 1524.31 Q2300.24 1520.74 2296.61 1520.74 M2296.61 1517.04 Q2302.42 1517.04 2305.47 1521.65 Q2308.55 1526.23 2308.55 1534.98 Q2308.55 1543.71 2305.47 1548.31 Q2302.42 1552.9 2296.61 1552.9 Q2290.8 1552.9 2287.72 1548.31 Q2284.66 1543.71 2284.66 1534.98 Q2284.66 1526.23 2287.72 1521.65 Q2290.8 1517.04 2296.61 1517.04 Z\" fill=\"#000000\" fill-rule=\"evenodd\" fill-opacity=\"1\" /><path clip-path=\"url(#clip440)\" d=\"M2313.12 1521.62 L2326.38 1521.62 L2326.38 1524.81 L2308.55 1524.81 L2308.55 1521.62 Q2310.72 1519.38 2314.44 1515.62 Q2318.18 1511.84 2319.14 1510.75 Q2320.97 1508.7 2321.68 1507.29 Q2322.41 1505.86 2322.41 1504.48 Q2322.41 1502.24 2320.83 1500.83 Q2319.27 1499.42 2316.75 1499.42 Q2314.97 1499.42 2312.97 1500.04 Q2311 1500.67 2308.74 1501.93 L2308.74 1498.09 Q2311.04 1497.17 2313.03 1496.7 Q2315.02 1496.23 2316.68 1496.23 Q2321.04 1496.23 2323.64 1498.41 Q2326.23 1500.59 2326.23 1504.24 Q2326.23 1505.97 2325.57 1507.53 Q2324.93 1509.07 2323.22 1511.18 Q2322.75 1511.72 2320.23 1514.34 Q2317.71 1516.93 2313.12 1521.62 Z\" fill=\"#000000\" fill-rule=\"evenodd\" fill-opacity=\"1\" /><polyline clip-path=\"url(#clip442)\" style=\"stroke:#000000; stroke-linecap:butt; stroke-linejoin:round; stroke-width:2; stroke-opacity:0.1; fill:none\" points=\"\n",
       "  187.803,980.261 2352.76,980.261 \n",
       "  \"/>\n",
       "<polyline clip-path=\"url(#clip442)\" style=\"stroke:#000000; stroke-linecap:butt; stroke-linejoin:round; stroke-width:2; stroke-opacity:0.1; fill:none\" points=\"\n",
       "  187.803,317.426 2352.76,317.426 \n",
       "  \"/>\n",
       "<polyline clip-path=\"url(#clip440)\" style=\"stroke:#000000; stroke-linecap:butt; stroke-linejoin:round; stroke-width:4; stroke-opacity:1; fill:none\" points=\"\n",
       "  187.803,1474.16 187.803,47.2441 \n",
       "  \"/>\n",
       "<polyline clip-path=\"url(#clip440)\" style=\"stroke:#000000; stroke-linecap:butt; stroke-linejoin:round; stroke-width:4; stroke-opacity:1; fill:none\" points=\"\n",
       "  187.803,980.261 206.701,980.261 \n",
       "  \"/>\n",
       "<polyline clip-path=\"url(#clip440)\" style=\"stroke:#000000; stroke-linecap:butt; stroke-linejoin:round; stroke-width:4; stroke-opacity:1; fill:none\" points=\"\n",
       "  187.803,317.426 206.701,317.426 \n",
       "  \"/>\n",
       "<path clip-path=\"url(#clip440)\" d=\"M51.6634 1000.05 L59.3023 1000.05 L59.3023 973.688 L50.9921 975.354 L50.9921 971.095 L59.256 969.429 L63.9319 969.429 L63.9319 1000.05 L71.5707 1000.05 L71.5707 1003.99 L51.6634 1003.99 L51.6634 1000.05 Z\" fill=\"#000000\" fill-rule=\"evenodd\" fill-opacity=\"1\" /><path clip-path=\"url(#clip440)\" d=\"M91.0151 972.507 Q87.404 972.507 85.5753 976.072 Q83.7697 979.614 83.7697 986.743 Q83.7697 993.85 85.5753 997.414 Q87.404 1000.96 91.0151 1000.96 Q94.6493 1000.96 96.4548 997.414 Q98.2835 993.85 98.2835 986.743 Q98.2835 979.614 96.4548 976.072 Q94.6493 972.507 91.0151 972.507 M91.0151 968.804 Q96.8252 968.804 99.8808 973.41 Q102.959 977.993 102.959 986.743 Q102.959 995.47 99.8808 1000.08 Q96.8252 1004.66 91.0151 1004.66 Q85.2049 1004.66 82.1262 1000.08 Q79.0707 995.47 79.0707 986.743 Q79.0707 977.993 82.1262 973.41 Q85.2049 968.804 91.0151 968.804 Z\" fill=\"#000000\" fill-rule=\"evenodd\" fill-opacity=\"1\" /><path clip-path=\"url(#clip440)\" d=\"M102.959 962.905 L127.071 962.905 L127.071 966.102 L102.959 966.102 L102.959 962.905 Z\" fill=\"#000000\" fill-rule=\"evenodd\" fill-opacity=\"1\" /><path clip-path=\"url(#clip440)\" d=\"M138.544 973.381 L151.803 973.381 L151.803 976.578 L133.973 976.578 L133.973 973.381 Q136.136 971.143 139.86 967.381 Q143.603 963.601 144.562 962.51 Q146.387 960.46 147.101 959.049 Q147.835 957.62 147.835 956.247 Q147.835 954.009 146.255 952.598 Q144.694 951.188 142.174 951.188 Q140.387 951.188 138.393 951.808 Q136.418 952.429 134.162 953.689 L134.162 949.852 Q136.456 948.931 138.45 948.46 Q140.443 947.99 142.098 947.99 Q146.462 947.99 149.057 950.172 Q151.653 952.354 151.653 956.002 Q151.653 957.733 150.994 959.294 Q150.355 960.836 148.644 962.942 Q148.173 963.488 145.653 966.102 Q143.133 968.698 138.544 973.381 Z\" fill=\"#000000\" fill-rule=\"evenodd\" fill-opacity=\"1\" /><path clip-path=\"url(#clip440)\" d=\"M81.0976 337.219 L88.7364 337.219 L88.7364 310.853 L80.4263 312.52 L80.4263 308.261 L88.6901 306.594 L93.366 306.594 L93.366 337.219 L101.005 337.219 L101.005 341.154 L81.0976 341.154 L81.0976 337.219 Z\" fill=\"#000000\" fill-rule=\"evenodd\" fill-opacity=\"1\" /><path clip-path=\"url(#clip440)\" d=\"M120.449 309.673 Q116.838 309.673 115.009 313.237 Q113.204 316.779 113.204 323.909 Q113.204 331.015 115.009 334.58 Q116.838 338.122 120.449 338.122 Q124.083 338.122 125.889 334.58 Q127.718 331.015 127.718 323.909 Q127.718 316.779 125.889 313.237 Q124.083 309.673 120.449 309.673 M120.449 305.969 Q126.259 305.969 129.315 310.575 Q132.394 315.159 132.394 323.909 Q132.394 332.635 129.315 337.242 Q126.259 341.825 120.449 341.825 Q114.639 341.825 111.56 337.242 Q108.505 332.635 108.505 323.909 Q108.505 315.159 111.56 310.575 Q114.639 305.969 120.449 305.969 Z\" fill=\"#000000\" fill-rule=\"evenodd\" fill-opacity=\"1\" /><path clip-path=\"url(#clip440)\" d=\"M142.098 288.165 Q139.164 288.165 137.679 291.061 Q136.212 293.939 136.212 299.732 Q136.212 305.506 137.679 308.402 Q139.164 311.28 142.098 311.28 Q145.051 311.28 146.518 308.402 Q148.004 305.506 148.004 299.732 Q148.004 293.939 146.518 291.061 Q145.051 288.165 142.098 288.165 M142.098 285.156 Q146.819 285.156 149.302 288.898 Q151.803 292.622 151.803 299.732 Q151.803 306.822 149.302 310.565 Q146.819 314.289 142.098 314.289 Q137.378 314.289 134.876 310.565 Q132.394 306.822 132.394 299.732 Q132.394 292.622 134.876 288.898 Q137.378 285.156 142.098 285.156 Z\" fill=\"#000000\" fill-rule=\"evenodd\" fill-opacity=\"1\" /><polyline clip-path=\"url(#clip442)\" style=\"stroke:#009af9; stroke-linecap:butt; stroke-linejoin:round; stroke-width:4; stroke-opacity:1; fill:none\" points=\"\n",
       "  249.075,87.6286 556.489,114.645 736.314,129.849 863.902,158.48 962.866,186.586 1043.73,387.239 1112.09,448.384 1171.31,498.198 1223.55,566.105 1270.28,619.4 \n",
       "  1312.55,684.528 1351.14,739.958 1386.64,775.616 1419.51,809.209 1450.1,842.282 1478.73,879.781 1505.61,910.97 1530.96,939.977 1554.94,954.396 1577.69,968.022 \n",
       "  1599.33,981.216 1619.96,992.497 1639.68,994.338 1658.55,1032.25 1676.66,1030.49 1694.05,1032.13 1710.79,1059.26 1726.92,1053.22 1742.48,1031.81 1757.52,1082.98 \n",
       "  1772.06,1102.34 1786.14,1127.13 1799.79,1141.03 1813.03,1140.17 1825.88,1142.44 1838.38,1141.5 1850.53,1170.46 1862.36,1169.76 1873.88,1171.17 1885.11,1177.72 \n",
       "  1896.06,1182.93 1906.74,1198.64 1917.18,1211.98 1927.38,1219.89 1937.34,1220.62 1947.09,1222.25 1956.63,1222 1965.97,1215.94 1975.11,1222.82 1984.07,1230.37 \n",
       "  1992.85,1225.25 2001.47,1234.96 2009.91,1256.78 2018.2,1268.63 2026.34,1264.79 2034.33,1262.12 2042.18,1260.83 2049.9,1264.63 2057.48,1273.02 2064.93,1263.31 \n",
       "  2072.26,1279.25 2079.47,1284.13 2086.57,1269.43 2093.55,1257.71 2100.43,1242.58 2107.2,1268.77 2113.87,1304.76 2120.44,1301.2 2126.92,1292.43 2133.3,1272.7 \n",
       "  2139.59,1289.8 2145.79,1322.48 2151.91,1318.7 2157.94,1326.24 2163.9,1313.75 2169.77,1311.78 2175.57,1340.78 2181.29,1350.75 2186.94,1353.32 2192.52,1346.59 \n",
       "  2198.03,1376.96 2203.47,1364.5 2208.85,1346.39 2214.16,1341.71 2219.41,1351.97 2224.59,1370.24 2229.72,1378.33 2234.79,1385.4 2239.8,1390.04 2244.76,1420.76 \n",
       "  2249.66,1420.72 2254.5,1409.62 2259.3,1402.08 2264.04,1419.73 2268.73,1429.12 2273.38,1433.78 2277.97,1431.47 2282.52,1414.25 2287.03,1428.13 2291.48,1429.81 \n",
       "  \n",
       "  \"/>\n",
       "<path clip-path=\"url(#clip440)\" d=\"\n",
       "M1987.61 198.488 L2280.59 198.488 L2280.59 94.8081 L1987.61 94.8081  Z\n",
       "  \" fill=\"#ffffff\" fill-rule=\"evenodd\" fill-opacity=\"1\"/>\n",
       "<polyline clip-path=\"url(#clip440)\" style=\"stroke:#000000; stroke-linecap:butt; stroke-linejoin:round; stroke-width:4; stroke-opacity:1; fill:none\" points=\"\n",
       "  1987.61,198.488 2280.59,198.488 2280.59,94.8081 1987.61,94.8081 1987.61,198.488 \n",
       "  \"/>\n",
       "<polyline clip-path=\"url(#clip440)\" style=\"stroke:#009af9; stroke-linecap:butt; stroke-linejoin:round; stroke-width:4; stroke-opacity:1; fill:none\" points=\"\n",
       "  2011.67,146.648 2156,146.648 \n",
       "  \"/>\n",
       "<path clip-path=\"url(#clip440)\" d=\"M2193.89 166.336 Q2192.09 170.965 2190.37 172.377 Q2188.66 173.789 2185.79 173.789 L2182.39 173.789 L2182.39 170.224 L2184.89 170.224 Q2186.65 170.224 2187.62 169.391 Q2188.59 168.558 2189.77 165.456 L2190.54 163.511 L2180.05 138.002 L2184.56 138.002 L2192.67 158.28 L2200.77 138.002 L2205.28 138.002 L2193.89 166.336 Z\" fill=\"#000000\" fill-rule=\"evenodd\" fill-opacity=\"1\" /><path clip-path=\"url(#clip440)\" d=\"M2212.57 159.993 L2220.21 159.993 L2220.21 133.627 L2211.9 135.294 L2211.9 131.035 L2220.17 129.368 L2224.84 129.368 L2224.84 159.993 L2232.48 159.993 L2232.48 163.928 L2212.57 163.928 L2212.57 159.993 Z\" fill=\"#000000\" fill-rule=\"evenodd\" fill-opacity=\"1\" /></svg>\n"
      ]
     },
     "execution_count": 72,
     "metadata": {},
     "output_type": "execute_result"
    }
   ],
   "source": [
    "# Main code\n",
    "function remove_col1(A,b)#Chenghui has an idea to optimize this for speed (\"filter\")\n",
    "    s=A'*b # n*1 \n",
    "    B=A[:,vec(s.>0)] # m*b matrix where b is smaller than n\n",
    "    s=s[vec(s.>0)] # s is b*1 in dimensions\n",
    "    return B./s'\n",
    "end\n",
    "\n",
    "epsilon = 0.0001 \n",
    "\n",
    "############# \n",
    "n = 1000 # variable dimension \n",
    "m = 400 # Number of data points\n",
    "b=rand(m,1)-repeat([0.3],m,1)\n",
    "A_init =  max.(0, randn(m, n)) #rand(m,n)#\n",
    "############\n",
    "\n",
    "############ Mnist： uncomment \n",
    "#train_x, train_y = MNIST.traindata()\n",
    "#A = Array{Int64}\n",
    "#b = Array{Int64}\n",
    "#A_init = reshape(train_x,60000,28*28)\n",
    "#b = train_y\n",
    "#test_x,  test_y  = MNIST.testdata()\n",
    "############\n",
    "\n",
    "\n",
    " A = remove_col1(A_init,b)\n",
    "############ Mnist: uncomment this\n",
    "# A = Float64.(A)\n",
    "# b = Float64.(b)\n",
    "# b1 = vcat(b')\n",
    "############\n",
    "\n",
    "(m,n) = size(A) # Redefine the size number n and m to prevent triviality.\n",
    "\n",
    "\n",
    " @time begin\n",
    "our_result = alg_ours(A, b, epsilon, n)\n",
    "# #our_result = alg_ours(A, b1, epsilon)\n",
    " end \n",
    "# #print(our_result[end])\n",
    "\n",
    "\n",
    "####### Plot\n",
    "s = alg_fast_lawsonhanson(A, b) # optima value\n",
    "f = plot(our_result.-s,xaxis=:log,yaxis=:log)\n",
    "print(\"\\n\",our_result[end]-s,\"\\n\")\n",
    "@show f   \n",
    "\n",
    "#   @time begin \n",
    "#   s=alg_fast_lawsonhanson(A, b)\n",
    "#   end\n",
    "\n",
    "#   @time begin \n",
    "#   alg_lawsonhanson(A, b)\n",
    "#   end\n",
    "\n",
    "#   @time begin \n",
    "#   alg_pivot(A, b)\n",
    "#   end"
   ]
  }
 ],
 "metadata": {
  "kernelspec": {
   "display_name": "Julia 1.5.0",
   "language": "julia",
   "name": "julia-1.5"
  },
  "language_info": {
   "file_extension": ".jl",
   "mimetype": "application/julia",
   "name": "julia",
   "version": "1.5.0"
  }
 },
 "nbformat": 4,
 "nbformat_minor": 2
}
