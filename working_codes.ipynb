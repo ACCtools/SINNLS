{
 "cells": [
  {
   "cell_type": "code",
   "execution_count": 1,
   "metadata": {},
   "outputs": [],
   "source": [
    "# Julia version code\n",
    "\"\"\"\n",
    "nonnegative linear regression \n",
    "\"\"\"\n",
    "# Discussion from Dec 22\n",
    "# 1. Currently, our runtime is O(n/sqrt(eps)*(m+n)). The per iteration O(m)\n",
    "# is unavoidable; however, IF we are NOT required to output the optimizer xtilde_ktotal, \n",
    "# then by maintaining 1^T x in each iteration (at a cost of O(1)), we can completely\n",
    "# avoid O(n) per iteration. \n",
    "\n",
    "using LinearAlgebra, BenchmarkTools, Plots, Convex, SCS, NonNegLeastSquares"
   ]
  },
  {
   "cell_type": "code",
   "execution_count": 2,
   "metadata": {},
   "outputs": [
    {
     "data": {
      "text/plain": [
       "alg_ours (generic function with 1 method)"
      ]
     },
     "execution_count": 2,
     "metadata": {},
     "output_type": "execute_result"
    }
   ],
   "source": [
    "function alg_ours(C::Matrix{Float64}, b::Matrix{Float64}, ϵ::Float64)\n",
    "\n",
    "    extra_term_nnls = 0.5*norm(b)^2\n",
    "    m, n = size(C)\n",
    "    K = ceil(n / √ϵ)\n",
    "    previous_A = 1.0/n\n",
    "    previous_a = previous_A\n",
    "    a = 1.0/(n*n)\n",
    "    A = (n+1.0) /(n * n)\n",
    "    col_norm = norm.(eachcol(C))\n",
    "    inv_col_norm_square = 1.0 ./(col_norm.^2)\n",
    "    idx_seq = 1:n\n",
    "    x = zeros(n)\n",
    "    p = zeros(n)\n",
    "    j = rand(idx_seq)\n",
    "    p[j] += inv_col_norm_square[j]\n",
    "    x[j] = p[j]\n",
    "    # x̃ = deepcopy(x)\n",
    "    previous_y = zeros(m)\n",
    "    y = x[j] * C[:, j]\n",
    "    # record Ax\n",
    "    z = x[j] * C[:, j]\n",
    "    ȳ = (n+1) * y\n",
    "    s = zeros(n)\n",
    "    func_value = 0\n",
    "\n",
    "    for k = 2:K\n",
    "        j = rand(idx_seq)\n",
    "        p[j] += - n * inv_col_norm_square[j] * a * (sum(C[:,j] .* ȳ) - 1)\n",
    "        prev_xj = x[j]\n",
    "        x[j] = min(inv_col_norm_square[j], max(0, p[j]))\n",
    "        # record Ax\n",
    "        z[:] += C[:, j] * (x[j] - prev_xj)\n",
    "        previous_y[:] = y[:]\n",
    "        y[:] = previous_A/A * y[:] + a/A * z[:] + (n-1) * a/A * (x[j] - prev_xj) * C[:,j]\n",
    "        s[j] += ((n-1) * a -  previous_A) * (x[j] - prev_xj)\n",
    "        previous_a, previous_A = a, A\n",
    "        a = min(n * a/(n-1), sqrt(A)/(2*n))\n",
    "        ȳ[:] = y[:] + previous_a/a * (y[:] - previous_y[:])\n",
    "        A += a\n",
    "\n",
    "        if k % n == 0\n",
    "            x̃ = x + 1.0/previous_A * s\n",
    "            C_x̃ = C * x̃\n",
    "            func_value = 0.5 * sum(C_x̃ .* C_x̃) - sum(x̃)+extra_term_nnls\n",
    "            #@info \"pass: $(k/n), func_value: $func_value\"\n",
    "        end\n",
    "    end\n",
    "    print(\"\\n our new code value is \", func_value)\n",
    "end\n",
    "\n"
   ]
  },
  {
   "cell_type": "code",
   "execution_count": 3,
   "metadata": {},
   "outputs": [
    {
     "data": {
      "text/plain": [
       "alg_lawsonhanson (generic function with 1 method)"
      ]
     },
     "execution_count": 3,
     "metadata": {},
     "output_type": "execute_result"
    }
   ],
   "source": [
    "# https://github.com/ahwillia/NonNegLeastSquares.jl\n",
    "function alg_lawsonhanson(A, b)\n",
    "    xnnls = nonneg_lsq(A,b;alg=:nnls)  # NNLS\n",
    "\n",
    "    nnls_optval = 0.5*norm(A*xnnls - b)^2\n",
    "    \n",
    "    print(\"\\n nnls package value is \", nnls_optval)\n",
    "end"
   ]
  },
  {
   "cell_type": "code",
   "execution_count": 5,
   "metadata": {},
   "outputs": [
    {
     "data": {
      "text/plain": [
       "alg_fast_lawsonhanson (generic function with 1 method)"
      ]
     },
     "execution_count": 5,
     "metadata": {},
     "output_type": "execute_result"
    }
   ],
   "source": [
    "# https://github.com/ahwillia/NonNegLeastSquares.jl\n",
    "function alg_fast_lawsonhanson(A, b)\n",
    "    xfnnls = nonneg_lsq(A,b;alg=:fnnls) # Fast NNLS\n",
    "\n",
    "    fnnls_optval = 0.5*norm(A*xfnnls - b)^2\n",
    "    \n",
    "    print(\"\\n f-nnls (nnls package) value is \", fnnls_optval)\n",
    "end"
   ]
  },
  {
   "cell_type": "code",
   "execution_count": 6,
   "metadata": {},
   "outputs": [
    {
     "data": {
      "text/plain": [
       "alg_pivot (generic function with 1 method)"
      ]
     },
     "execution_count": 6,
     "metadata": {},
     "output_type": "execute_result"
    }
   ],
   "source": [
    "# https://github.com/ahwillia/NonNegLeastSquares.jl\n",
    "function alg_pivot(A, b)\n",
    "    xpivot = nonneg_lsq(A,b;alg=:pivot) # Pivot Method\n",
    "\n",
    "    xpivot_optval = 0.5*norm(A*xpivot - b)^2\n",
    "    \n",
    "    print(\"\\n pivot alg (nnls package) value is \", xpivot_optval)\n",
    "end"
   ]
  },
  {
   "cell_type": "code",
   "execution_count": null,
   "metadata": {},
   "outputs": [],
   "source": [
    "# Main code\n",
    "function remove_col1(A,b)#Chenghui has an idea to optimize this for speed (\"filter\")\n",
    "    s=A'*b # n*1 \n",
    "    B=A[:,vec(s.>0)] # m*b matrix where b is smaller than n\n",
    "    s=s[vec(s.>0)] # s is b*1 in dimensions\n",
    "    return B./s'\n",
    "end\n",
    "\n",
    "epsilon = 0.005 \n",
    "n = 10000 # variable dimension \n",
    "m = 8000 # Number of data points\n",
    "b=rand(m,1)-repeat([0.3],m,1)\n",
    "A_init =  max.(0, randn(m, n)) #rand(m,n)#\n",
    "A = remove_col1(A_init,b)\n",
    "(m,n)=size(A) # Redefine the size number n and m to prevent triviality.\n",
    "\n",
    "\n",
    "\n",
    "@time begin \n",
    "alg_lawsonhanson(A, b)\n",
    "end\n",
    "\n",
    "@time begin \n",
    "alg_pivot(A, b)\n",
    "end\n",
    "\n",
    "@time begin\n",
    "our_result = alg_ours(A, b, epsilon)\n",
    "end \n"
   ]
  },
  {
   "cell_type": "code",
   "execution_count": null,
   "metadata": {},
   "outputs": [],
   "source": []
  }
 ],
 "metadata": {
  "kernelspec": {
   "display_name": "Julia 1.7.0",
   "language": "julia",
   "name": "julia-1.7"
  },
  "language_info": {
   "file_extension": ".jl",
   "mimetype": "application/julia",
   "name": "julia",
   "version": "1.7.0"
  }
 },
 "nbformat": 4,
 "nbformat_minor": 4
}
