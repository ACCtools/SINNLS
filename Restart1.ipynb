{
 "cells": [
  {
   "cell_type": "code",
   "execution_count": null,
   "metadata": {},
   "outputs": [],
   "source": [
    "# Julia version code\n",
    "\"\"\"\n",
    "nonnegative linear regression \n",
    "\"\"\"\n",
    "# Discussion from Dec 22\n",
    "# 1. Currently, our runtime is O(n/sqrt(eps)*(m+n)). The per iteration O(m)\n",
    "# is unavoidable; however, IF we are NOT required to output the optimizer xtilde_ktotal, \n",
    "# then by maintaining 1^T x in each iteration (at a cost of O(1)), we can completely\n",
    "# avoid O(n) per iteration. \n",
    "\n",
    "using LinearAlgebra, BenchmarkTools, Plots, Convex, SCS, NonNegLeastSquares, MLDatasets\n"
   ]
  },
  {
   "cell_type": "code",
   "execution_count": 1,
   "metadata": {},
   "outputs": [
    {
     "data": {
      "text/plain": [
       "alg_ours (generic function with 1 method)"
      ]
     },
     "execution_count": 1,
     "metadata": {},
     "output_type": "execute_result"
    }
   ],
   "source": [
    "function alg_ours_with_restart(C::Matrix{Float64}, b::Matrix{Float64}, ϵ::Float64 )\n",
    "    \n",
    "    extra_term_nnls = 0.5*norm(b)^2\n",
    "    m, n = size(C)\n",
    "    K = ceil(log2(1/ϵ))\n",
    "    col_norm = norm.(eachcol(C))\n",
    "    inv_col_norm_square = 1.0 ./(col_norm.^2)\n",
    "    idx_seq = 1:n\n",
    "    \n",
    "    x0 = zeros(n)\n",
    "    y0 = zeros(m)\n",
    "    z0 = zeros(m)\n",
    "    \n",
    "    for i=1:K\n",
    "        \n",
    "        xktilde, yktilde, zktilde, sumxtildek = alg_our_core(x0, y0, z0, sumx0, parameter)\n",
    "        x0[:] = xktilde[:]\n",
    "        y0[:] = yktilde[:]\n",
    "        z0[:] = zktilde[:]\n",
    "        sumx0 = sumxtildek\n",
    "        \n",
    "    end\n",
    "    return(func_value)\n",
    "end\n",
    "\n",
    "function alg_our_core(x0, y0, z0, sumx0, parameter)\n",
    "        # reset all the scaling factors \n",
    "        previous_A = 1.0/n\n",
    "        previous_a = previous_A #a_1, A_1\n",
    "        a = 1.0/(n*n) # a_2\n",
    "        A = (n+1.0)/(n * n) # A_2\n",
    "        \n",
    "        # compute x1 using the input x0 \n",
    "        # we redefined phio(x) = 1/2 * ||x-x0||_A^2, hence updating x requires x0 \n",
    "        p = copy(x0) \n",
    "        x = copy(x0)\n",
    "        j = rand(idx_seq)\n",
    "        p[j] += inv_col_norm_square[j]\n",
    "        x[j] = min(inv_col_norm_square[j], max(0, p[j])) #x and x0 differ only at j \n",
    "        \n",
    "        # compute y1\n",
    "        previous_y = copy(y0)\n",
    "        z = copy(z0) \n",
    "        z += C[:, j] * (x[j] - x0[j]) # z_1 = A x_1 = A (x_0 + (x_1 - x_0))\n",
    "        y = copy(z) # y_1 = A xtilde1 = A x_1 = z_1 \n",
    "    \n",
    "        # compute ȳ, ỹ (because we need to return it), and some auxiliary variables \n",
    "        ȳ = zeros(m) # arbitrary initialization \n",
    "        ȳ[:] = y[:] + previous_a/a * (y[:] - previous_y[:]) #ybar_1 \n",
    "        s = zeros(n) # need this so that xtildek = xk + sk/Ak; s_1\n",
    "        u = zeros(m) # u_k = A*s_k; we maintain this so we can cheaply return A xtildek\n",
    "        ỹ = copy(y) # ytildek = convex comb of yi's, so ytilde1 = y1\n",
    "    \n",
    "        # func_value = 0\n",
    "        func_value=zeros(Int(ceil(K/n)))\n",
    "    \n",
    "        # restart value init; ||Axitlde_ktotal||^2 - 1^T xtilde_ktotal \n",
    "        restart_val_prev = -sumx0+ 0.5* norm(z0)^2 +0.5*norm(y0)^2\n",
    "        restart_val_curr = restart_val_prev\n",
    "        sumx0 += x[j] - x0[j]\n",
    "        sums1 = 0 \n",
    "        \n",
    "        while (restart_val_curr >= 0.5*restart_val_prev)\n",
    "            # updates related to x\n",
    "            j = rand(idx_seq)\n",
    "            p[j] += - n * inv_col_norm_square[j] * a * (sum(C[:,j] .* ȳ) - 1)\n",
    "            prev_xj = x[j]\n",
    "            x[j] = min(inv_col_norm_square[j], max(0, p[j]))\n",
    "            # update s so that we may return xtildek at only O(1) cost\n",
    "            s[j] += ((n-1) * a -  previous_A) * (x[j] - prev_xj)\n",
    "        \n",
    "            # updates related to y \n",
    "            previous_y[:] = y[:]\n",
    "            z[:] += C[:, j] * (x[j] - prev_xj)\n",
    "            u[j] += ((n-1) * a -  previous_A) * (x[j] - prev_xj) * C[:, j]    \n",
    "            y[:] = previous_A/A * y[:] + a/A * z[:] + (n-1) * a/A * (x[j] - prev_xj) * C[:,j]\n",
    "            # need to update ytilde each time because that's what we want to return, \n",
    "            # and we aren't saving all the yi's. \n",
    "            ỹ[:] = previous_A/A * ỹ[:] + a/A * y[:]\n",
    "        \n",
    "            # update sums of xtilde and s to check the restart condition \n",
    "            sumx0 += (1 + ((n-1)*a - previous_A)/A)*(x[j] - prev_xj)- (a/(previous_A*A))*sums1\n",
    "            sums1 += ((n-1)*a - previous_A)*(x[j] - prev_xj)\n",
    "        \n",
    "            # update scaling factors \n",
    "            previous_a, previous_A = a, A\n",
    "            a = min(n * a/(n-1), sqrt(A)/(2*n))\n",
    "            A += a\n",
    "        \n",
    "            # update ȳ (note that ȳ_k depends on a_k and a_{k+1})\n",
    "            ȳ[:] = y[:] + previous_a/a * (y[:] - previous_y[:])\n",
    "        \n",
    "            # compute the restart condition \n",
    "            restart_val_curr = -sumx0+ 0.5* norm(z+ (1.0/previous_A) * u)^2 +0.5*norm(ỹ)^2\n",
    "        end\n",
    "        return x + (1.0/previous_A) * s, ỹ, z+ (1.0/previous_A) * u, sumx0 \n",
    "end"
   ]
  },
  {
   "cell_type": "code",
   "execution_count": 2,
   "metadata": {},
   "outputs": [
    {
     "data": {
      "text/plain": [
       "1×4 Matrix{Int64}:\n",
       " 1  2  5  78"
      ]
     },
     "execution_count": 2,
     "metadata": {},
     "output_type": "execute_result"
    }
   ],
   "source": [
    "a = [1 2 5 78]\n",
    "b = copy(a)"
   ]
  },
  {
   "cell_type": "code",
   "execution_count": 3,
   "metadata": {},
   "outputs": [
    {
     "data": {
      "text/plain": [
       "-5"
      ]
     },
     "execution_count": 3,
     "metadata": {},
     "output_type": "execute_result"
    }
   ],
   "source": [
    "b[3] = -5"
   ]
  },
  {
   "cell_type": "code",
   "execution_count": 4,
   "metadata": {},
   "outputs": [
    {
     "data": {
      "text/plain": [
       "1×4 Matrix{Int64}:\n",
       " 1  2  -5  78"
      ]
     },
     "execution_count": 4,
     "metadata": {},
     "output_type": "execute_result"
    }
   ],
   "source": [
    "b"
   ]
  },
  {
   "cell_type": "code",
   "execution_count": 5,
   "metadata": {},
   "outputs": [
    {
     "data": {
      "text/plain": [
       "1×4 Matrix{Int64}:\n",
       " 1  2  5  78"
      ]
     },
     "execution_count": 5,
     "metadata": {},
     "output_type": "execute_result"
    }
   ],
   "source": [
    "a"
   ]
  },
  {
   "cell_type": "code",
   "execution_count": null,
   "metadata": {},
   "outputs": [],
   "source": []
  }
 ],
 "metadata": {
  "kernelspec": {
   "display_name": "Julia 1.7.0",
   "language": "julia",
   "name": "julia-1.7"
  },
  "language_info": {
   "file_extension": ".jl",
   "mimetype": "application/julia",
   "name": "julia",
   "version": "1.7.0"
  }
 },
 "nbformat": 4,
 "nbformat_minor": 2
}
