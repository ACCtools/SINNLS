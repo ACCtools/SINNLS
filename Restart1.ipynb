{
 "cells": [
  {
   "cell_type": "code",
   "execution_count": null,
   "metadata": {},
   "outputs": [],
   "source": [
    "# Julia version code\n",
    "\"\"\"\n",
    "nonnegative linear regression \n",
    "\"\"\"\n",
    "# Discussion from Dec 22\n",
    "# 1. Currently, our runtime is O(n/sqrt(eps)*(m+n)). The per iteration O(m)\n",
    "# is unavoidable; however, IF we are NOT required to output the optimizer xtilde_ktotal, \n",
    "# then by maintaining 1^T x in each iteration (at a cost of O(1)), we can completely\n",
    "# avoid O(n) per iteration. \n",
    "\n",
    "using LinearAlgebra, BenchmarkTools, Plots, Convex, SCS, NonNegLeastSquares, MLDatasets\n"
   ]
  },
  {
   "cell_type": "code",
   "execution_count": 1,
   "metadata": {},
   "outputs": [
    {
     "data": {
      "text/plain": [
       "alg_ours (generic function with 1 method)"
      ]
     },
     "execution_count": 1,
     "metadata": {},
     "output_type": "execute_result"
    }
   ],
   "source": [
    "function alg_our(C::Matrix{Float64}, b::Matrix{Float64}, ϵ::Float64 )\n",
    "    \n",
    "    extra_term_nnls = 0.5*norm(b)^2\n",
    "    m, n = size(C)\n",
    "    K = ceil(log2(1/ϵ))\n",
    "    col_norm = norm.(eachcol(C))\n",
    "    inv_col_norm_square = 1.0 ./(col_norm.^2)\n",
    "    idx_seq = 1:n\n",
    "    x0 = zeros(n)\n",
    "    y0 = zeros(m)\n",
    "    z0 =\n",
    "    \n",
    "    for i=1:K\n",
    "        \n",
    "        xk, yk = alg1(x0, y0, parameter)\n",
    "        x0, y0 = xk, yk\n",
    "        \n",
    "    end\n",
    "    return(func_value)\n",
    "end\n",
    "\n",
    "function alg1(x0, y0, z0, parameter)\n",
    "        previous_A = 1.0/n\n",
    "        previous_a = previous_A\n",
    "        a = 1.0/(n*n)\n",
    "        A = (n+1.0) /(n * n)\n",
    "        \n",
    "        # Initialization\n",
    "        p = x0\n",
    "        j = rand(idx_seq)\n",
    "        p[j] += inv_col_norm_square[j]\n",
    "        x[j] = min(inv_col_norm_square[j], max(0, p[j]))\n",
    "        \n",
    "        previous_y[:] = y0[:]\n",
    "        z[:] = z0[:]\n",
    "        z += C[:, j] * (x[j] - x0[j])\n",
    "        y[:] = z[:]\n",
    "    \n",
    "        # record Ax\n",
    "        ȳ[:] = y[:] + previous_a/a * (y[:] - previous_y[:])\n",
    "        s = zeros(n)\n",
    "        u = zeros(m) # u_k = A*s_k\n",
    "        ỹ[:] = y[:]\n",
    "    \n",
    "        #func_value = 0\n",
    "        func_value=zeros(Int(ceil(K/n)))\n",
    "        \n",
    "        while #Condition\n",
    "            j = rand(idx_seq)\n",
    "            p[j] += - n * inv_col_norm_square[j] * a * (sum(C[:,j] .* ȳ) - 1)\n",
    "            prev_xj = x[j]\n",
    "            x[j] = min(inv_col_norm_square[j], max(0, p[j]))\n",
    "            # record Ax\n",
    "            z[:] += C[:, j] * (x[j] - prev_xj)\n",
    "            previous_y[:] = y[:]\n",
    "            y[:] = previous_A/A * y[:] + a/A * z[:] + (n-1) * a/A * (x[j] - prev_xj) * C[:,j]\n",
    "            ỹ[:] = previous_A/A * ỹ[:] + a/A * y[:]\n",
    "            s[j] += ((n-1) * a -  previous_A) * (x[j] - prev_xj)\n",
    "            u[j] += ((n-1) * a -  previous_A) * (x[j] - prev_xj) * C[:, j]\n",
    "            \n",
    "            previous_a, previous_A = a, A\n",
    "            a = min(n * a/(n-1), sqrt(A)/(2*n))\n",
    "            ȳ[:] = y[:] + previous_a/a * (y[:] - previous_y[:])\n",
    "            A += a\n",
    "        end\n",
    "        return x + 1.0/previous_A * s, ỹ, z+ 1.0/previous_A * u\n",
    "end"
   ]
  },
  {
   "cell_type": "code",
   "execution_count": null,
   "metadata": {},
   "outputs": [],
   "source": []
  }
 ],
 "metadata": {
  "kernelspec": {
   "display_name": "Julia 1.5.0",
   "language": "julia",
   "name": "julia-1.5"
  },
  "language_info": {
   "file_extension": ".jl",
   "mimetype": "application/julia",
   "name": "julia",
   "version": "1.5.0"
  }
 },
 "nbformat": 4,
 "nbformat_minor": 2
}
